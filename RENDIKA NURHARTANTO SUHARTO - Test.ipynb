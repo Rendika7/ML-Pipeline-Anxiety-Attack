{
 "cells": [
  {
   "cell_type": "markdown",
   "metadata": {},
   "source": [
    "# File untuk melakukan pengujian terhadap model yang sudah di deploy."
   ]
  },
  {
   "cell_type": "markdown",
   "metadata": {},
   "source": [
    "Melakukan import library yang dibutuhkan untuk keseluruhan proyek."
   ]
  },
  {
   "cell_type": "code",
   "execution_count": 1,
   "metadata": {},
   "outputs": [],
   "source": [
    "# Import library\n",
    "import pandas as pd\n",
    "import tensorflow as tf\n",
    "import base64\n",
    "import json\n",
    "import requests"
   ]
  },
  {
   "cell_type": "markdown",
   "metadata": {},
   "source": [
    "Melakukan load terhadap dataset dan menampilkan isinya."
   ]
  },
  {
   "cell_type": "code",
   "execution_count": 2,
   "metadata": {},
   "outputs": [
    {
     "data": {
      "text/html": [
       "<div>\n",
       "<style scoped>\n",
       "    .dataframe tbody tr th:only-of-type {\n",
       "        vertical-align: middle;\n",
       "    }\n",
       "\n",
       "    .dataframe tbody tr th {\n",
       "        vertical-align: top;\n",
       "    }\n",
       "\n",
       "    .dataframe thead th {\n",
       "        text-align: right;\n",
       "    }\n",
       "</style>\n",
       "<table border=\"1\" class=\"dataframe\">\n",
       "  <thead>\n",
       "    <tr style=\"text-align: right;\">\n",
       "      <th></th>\n",
       "      <th>Age</th>\n",
       "      <th>Gender</th>\n",
       "      <th>EducationLevel</th>\n",
       "      <th>ExperienceYears</th>\n",
       "      <th>PreviousCompanies</th>\n",
       "      <th>DistanceFromCompany</th>\n",
       "      <th>InterviewScore</th>\n",
       "      <th>SkillScore</th>\n",
       "      <th>PersonalityScore</th>\n",
       "      <th>RecruitmentStrategy</th>\n",
       "      <th>HiringDecision</th>\n",
       "    </tr>\n",
       "  </thead>\n",
       "  <tbody>\n",
       "    <tr>\n",
       "      <th>0</th>\n",
       "      <td>26</td>\n",
       "      <td>1</td>\n",
       "      <td>2</td>\n",
       "      <td>0</td>\n",
       "      <td>3</td>\n",
       "      <td>26.783828</td>\n",
       "      <td>48</td>\n",
       "      <td>78</td>\n",
       "      <td>91</td>\n",
       "      <td>1</td>\n",
       "      <td>1</td>\n",
       "    </tr>\n",
       "    <tr>\n",
       "      <th>1</th>\n",
       "      <td>39</td>\n",
       "      <td>1</td>\n",
       "      <td>4</td>\n",
       "      <td>12</td>\n",
       "      <td>3</td>\n",
       "      <td>25.862694</td>\n",
       "      <td>35</td>\n",
       "      <td>68</td>\n",
       "      <td>80</td>\n",
       "      <td>2</td>\n",
       "      <td>1</td>\n",
       "    </tr>\n",
       "    <tr>\n",
       "      <th>2</th>\n",
       "      <td>48</td>\n",
       "      <td>0</td>\n",
       "      <td>2</td>\n",
       "      <td>3</td>\n",
       "      <td>2</td>\n",
       "      <td>9.920805</td>\n",
       "      <td>20</td>\n",
       "      <td>67</td>\n",
       "      <td>13</td>\n",
       "      <td>2</td>\n",
       "      <td>0</td>\n",
       "    </tr>\n",
       "    <tr>\n",
       "      <th>3</th>\n",
       "      <td>34</td>\n",
       "      <td>1</td>\n",
       "      <td>2</td>\n",
       "      <td>5</td>\n",
       "      <td>2</td>\n",
       "      <td>6.407751</td>\n",
       "      <td>36</td>\n",
       "      <td>27</td>\n",
       "      <td>70</td>\n",
       "      <td>3</td>\n",
       "      <td>0</td>\n",
       "    </tr>\n",
       "    <tr>\n",
       "      <th>4</th>\n",
       "      <td>30</td>\n",
       "      <td>0</td>\n",
       "      <td>1</td>\n",
       "      <td>6</td>\n",
       "      <td>1</td>\n",
       "      <td>43.105343</td>\n",
       "      <td>23</td>\n",
       "      <td>52</td>\n",
       "      <td>85</td>\n",
       "      <td>2</td>\n",
       "      <td>0</td>\n",
       "    </tr>\n",
       "    <tr>\n",
       "      <th>...</th>\n",
       "      <td>...</td>\n",
       "      <td>...</td>\n",
       "      <td>...</td>\n",
       "      <td>...</td>\n",
       "      <td>...</td>\n",
       "      <td>...</td>\n",
       "      <td>...</td>\n",
       "      <td>...</td>\n",
       "      <td>...</td>\n",
       "      <td>...</td>\n",
       "      <td>...</td>\n",
       "    </tr>\n",
       "    <tr>\n",
       "      <th>1495</th>\n",
       "      <td>48</td>\n",
       "      <td>0</td>\n",
       "      <td>2</td>\n",
       "      <td>3</td>\n",
       "      <td>4</td>\n",
       "      <td>9.183783</td>\n",
       "      <td>66</td>\n",
       "      <td>3</td>\n",
       "      <td>80</td>\n",
       "      <td>3</td>\n",
       "      <td>1</td>\n",
       "    </tr>\n",
       "    <tr>\n",
       "      <th>1496</th>\n",
       "      <td>27</td>\n",
       "      <td>1</td>\n",
       "      <td>2</td>\n",
       "      <td>10</td>\n",
       "      <td>3</td>\n",
       "      <td>14.847731</td>\n",
       "      <td>43</td>\n",
       "      <td>97</td>\n",
       "      <td>7</td>\n",
       "      <td>2</td>\n",
       "      <td>0</td>\n",
       "    </tr>\n",
       "    <tr>\n",
       "      <th>1497</th>\n",
       "      <td>24</td>\n",
       "      <td>1</td>\n",
       "      <td>1</td>\n",
       "      <td>1</td>\n",
       "      <td>2</td>\n",
       "      <td>4.289911</td>\n",
       "      <td>31</td>\n",
       "      <td>91</td>\n",
       "      <td>58</td>\n",
       "      <td>1</td>\n",
       "      <td>1</td>\n",
       "    </tr>\n",
       "    <tr>\n",
       "      <th>1498</th>\n",
       "      <td>48</td>\n",
       "      <td>0</td>\n",
       "      <td>2</td>\n",
       "      <td>4</td>\n",
       "      <td>4</td>\n",
       "      <td>36.299263</td>\n",
       "      <td>9</td>\n",
       "      <td>37</td>\n",
       "      <td>44</td>\n",
       "      <td>2</td>\n",
       "      <td>1</td>\n",
       "    </tr>\n",
       "    <tr>\n",
       "      <th>1499</th>\n",
       "      <td>34</td>\n",
       "      <td>1</td>\n",
       "      <td>2</td>\n",
       "      <td>11</td>\n",
       "      <td>5</td>\n",
       "      <td>12.910472</td>\n",
       "      <td>63</td>\n",
       "      <td>40</td>\n",
       "      <td>26</td>\n",
       "      <td>2</td>\n",
       "      <td>1</td>\n",
       "    </tr>\n",
       "  </tbody>\n",
       "</table>\n",
       "<p>1500 rows × 11 columns</p>\n",
       "</div>"
      ],
      "text/plain": [
       "      Age  Gender  EducationLevel  ExperienceYears  PreviousCompanies  \\\n",
       "0      26       1               2                0                  3   \n",
       "1      39       1               4               12                  3   \n",
       "2      48       0               2                3                  2   \n",
       "3      34       1               2                5                  2   \n",
       "4      30       0               1                6                  1   \n",
       "...   ...     ...             ...              ...                ...   \n",
       "1495   48       0               2                3                  4   \n",
       "1496   27       1               2               10                  3   \n",
       "1497   24       1               1                1                  2   \n",
       "1498   48       0               2                4                  4   \n",
       "1499   34       1               2               11                  5   \n",
       "\n",
       "      DistanceFromCompany  InterviewScore  SkillScore  PersonalityScore  \\\n",
       "0               26.783828              48          78                91   \n",
       "1               25.862694              35          68                80   \n",
       "2                9.920805              20          67                13   \n",
       "3                6.407751              36          27                70   \n",
       "4               43.105343              23          52                85   \n",
       "...                   ...             ...         ...               ...   \n",
       "1495             9.183783              66           3                80   \n",
       "1496            14.847731              43          97                 7   \n",
       "1497             4.289911              31          91                58   \n",
       "1498            36.299263               9          37                44   \n",
       "1499            12.910472              63          40                26   \n",
       "\n",
       "      RecruitmentStrategy  HiringDecision  \n",
       "0                       1               1  \n",
       "1                       2               1  \n",
       "2                       2               0  \n",
       "3                       3               0  \n",
       "4                       2               0  \n",
       "...                   ...             ...  \n",
       "1495                    3               1  \n",
       "1496                    2               0  \n",
       "1497                    1               1  \n",
       "1498                    2               1  \n",
       "1499                    2               1  \n",
       "\n",
       "[1500 rows x 11 columns]"
      ]
     },
     "execution_count": 2,
     "metadata": {},
     "output_type": "execute_result"
    }
   ],
   "source": [
    "# Load data\n",
    "data = pd.read_csv('data/data.csv')\n",
    "data"
   ]
  },
  {
   "cell_type": "markdown",
   "metadata": {},
   "source": [
    "Mengambil bari pertama dari dataset dengan mengabaikan kolom target."
   ]
  },
  {
   "cell_type": "code",
   "execution_count": 3,
   "metadata": {},
   "outputs": [
    {
     "data": {
      "text/plain": [
       "{'Age': 26.0,\n",
       " 'Gender': 1.0,\n",
       " 'EducationLevel': 2.0,\n",
       " 'ExperienceYears': 0.0,\n",
       " 'PreviousCompanies': 3.0,\n",
       " 'DistanceFromCompany': 26.78382755385365,\n",
       " 'InterviewScore': 48.0,\n",
       " 'SkillScore': 78.0,\n",
       " 'PersonalityScore': 91.0,\n",
       " 'RecruitmentStrategy': 1.0}"
      ]
     },
     "execution_count": 3,
     "metadata": {},
     "output_type": "execute_result"
    }
   ],
   "source": [
    "# Mengambil input\n",
    "inputs = data.iloc[0, :10].to_dict()\n",
    "inputs"
   ]
  },
  {
   "cell_type": "markdown",
   "metadata": {},
   "source": [
    "Mengubah data agar dapat diakses oleh model dan mengirimkan request predict ke endpoint."
   ]
  },
  {
   "cell_type": "code",
   "execution_count": 4,
   "metadata": {},
   "outputs": [],
   "source": [
    "# Fungsi untuk menyiapkan data input\n",
    "def prepare_json(inputs: dict):\n",
    "\n",
    "    # Mendefinisikan mapping dari kunci input ke jenis Fitur TensorFlow\n",
    "    feature_mapping = {\n",
    "        \"Age\": tf.train.Feature(int64_list=tf.train.Int64List(value=[int(inputs['Age'])])),\n",
    "        \"Gender\": tf.train.Feature(int64_list=tf.train.Int64List(value=[int(inputs['Gender'])])),\n",
    "        \"EducationLevel\": tf.train.Feature(int64_list=tf.train.Int64List(value=[int(inputs['EducationLevel'])])),\n",
    "        \"ExperienceYears\": tf.train.Feature(int64_list=tf.train.Int64List(value=[int(inputs['ExperienceYears'])])),\n",
    "        \"PreviousCompanies\": tf.train.Feature(int64_list=tf.train.Int64List(value=[int(inputs['PreviousCompanies'])])),\n",
    "        \"DistanceFromCompany\": tf.train.Feature(float_list=tf.train.FloatList(value=[float(inputs['DistanceFromCompany'])])),\n",
    "        \"InterviewScore\": tf.train.Feature(int64_list=tf.train.Int64List(value=[int(inputs['InterviewScore'])])),\n",
    "        \"SkillScore\": tf.train.Feature(int64_list=tf.train.Int64List(value=[int(inputs['SkillScore'])])),\n",
    "        \"PersonalityScore\": tf.train.Feature(int64_list=tf.train.Int64List(value=[int(inputs['PersonalityScore'])])),\n",
    "        \"RecruitmentStrategy\": tf.train.Feature(int64_list=tf.train.Int64List(value=[int(inputs['RecruitmentStrategy'])])),\n",
    "    }\n",
    "\n",
    "    # Membuat TensorFlow Example\n",
    "    example = tf.train.Example(\n",
    "        features=tf.train.Features(feature=feature_mapping)\n",
    "    ).SerializeToString()\n",
    "\n",
    "    # Melakukan encode Example ke base64\n",
    "    result = {\n",
    "        \"examples\": {\n",
    "            \"b64\": base64.b64encode(example).decode()\n",
    "        }\n",
    "    }\n",
    "\n",
    "    # Mengembalikan data dalam format JSON\n",
    "    return json.dumps({\n",
    "        \"signature_name\": \"serving_default\",\n",
    "        \"instances\": [result],\n",
    "    })\n",
    "\n",
    "\n",
    "# Fungsi untuk memprediksi data\n",
    "def predict(inputs):\n",
    "    json_data = prepare_json(inputs)\n",
    "\n",
    "    endpoint = \"https://proyek-akhir-mlops-production.up.railway.app/v1/models/cc-model:predict\"\n",
    "\n",
    "    response = requests.post(endpoint, data=json_data)\n",
    "\n",
    "    prediction = response.json().get(\"predictions\")[0][0]\n",
    "    if prediction:\n",
    "        if prediction > 0.5:\n",
    "            result = \"Label 1 (Hired)\"\n",
    "        elif prediction < 0.5:\n",
    "            result = \"Label 0 (Not Hired)\"\n",
    "        else:\n",
    "            result = \"Unknown label\"\n",
    "    else:\n",
    "        result = \"Error: No predictions found in response.\"\n",
    "    \n",
    "    return result\n",
    "\n"
   ]
  },
  {
   "cell_type": "markdown",
   "metadata": {},
   "source": [
    "Melakukan prediksi menggunakan data pada baris pertama. Output seharusnya mengembalikan 1 (Hired)"
   ]
  },
  {
   "cell_type": "code",
   "execution_count": 5,
   "metadata": {},
   "outputs": [
    {
     "name": "stdout",
     "output_type": "stream",
     "text": [
      "Label 1 (Hired)\n"
     ]
    }
   ],
   "source": [
    "# Predict data\n",
    "inputs = data.iloc[0, :10].to_dict()\n",
    "print(predict(inputs))"
   ]
  },
  {
   "cell_type": "markdown",
   "metadata": {},
   "source": [
    "Melakukan prediksi menggunakan data pada baris keempat. Output seharusnya mengembalikan 0 (Not hired)"
   ]
  },
  {
   "cell_type": "code",
   "execution_count": 15,
   "metadata": {},
   "outputs": [
    {
     "name": "stdout",
     "output_type": "stream",
     "text": [
      "Label 0 (Not Hired)\n"
     ]
    }
   ],
   "source": [
    "# Predict data\n",
    "inputs = data.iloc[3, :10].to_dict()\n",
    "print(predict(inputs))"
   ]
  },
  {
   "cell_type": "markdown",
   "metadata": {},
   "source": [
    "Lakukan prediksi pada data lainnya dengan mengubah nilai X dengan nomor baris yang diinginkan.\n",
    "\n",
    "`data.iloc[X, :10].to_dict()`"
   ]
  }
 ],
 "metadata": {
  "kernelspec": {
   "display_name": "proyek-akhir-mlops",
   "language": "python",
   "name": "python3"
  },
  "language_info": {
   "codemirror_mode": {
    "name": "ipython",
    "version": 3
   },
   "file_extension": ".py",
   "mimetype": "text/x-python",
   "name": "python",
   "nbconvert_exporter": "python",
   "pygments_lexer": "ipython3",
   "version": "3.9.15"
  }
 },
 "nbformat": 4,
 "nbformat_minor": 2
}
