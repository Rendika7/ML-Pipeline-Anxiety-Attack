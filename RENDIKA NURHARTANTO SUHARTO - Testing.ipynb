{
 "cells": [
  {
   "cell_type": "code",
   "execution_count": 73,
   "metadata": {},
   "outputs": [],
   "source": [
    "# 📌 **1. Import Library**\n",
    "import requests\n",
    "import json\n",
    "import os\n",
    "import base64\n",
    "import pandas as pd\n",
    "import tensorflow as tf\n",
    "from sklearn.preprocessing import LabelEncoder\n",
    "\n",
    "# 📌 **2. Baca Data dari CSV**\n",
    "csv_path = \"data/anxiety_attack_dataset.csv\"\n",
    "data = pd.read_csv(csv_path)\n",
    "\n",
    "# 📌 **3. Ambil 10 Data Secara Acak untuk Uji**\n",
    "sample_data = data.sample(n=10, random_state=42)  # Pilih 10 baris acak untuk diuji"
   ]
  },
  {
   "cell_type": "code",
   "execution_count": 74,
   "metadata": {},
   "outputs": [],
   "source": [
    "# 📌 **4. Transformasi Sesuai dengan TFX Pipeline**\n",
    "\n",
    "# Daftar fitur pada dataset yang perlu di-encode\n",
    "FEATURES = [\n",
    "    \"Age\",\n",
    "    \"Sleep Hours\",\n",
    "    \"Physical Activity (hrs/week)\",\n",
    "    \"Caffeine Intake (mg/day)\",\n",
    "    \"Alcohol Consumption (drinks/week)\",\n",
    "    \"Stress Level (1-10)\",\n",
    "    \"Heart Rate (bpm during attack)\",\n",
    "    \"Breathing Rate (breaths/min)\",\n",
    "    \"Sweating Level (1-5)\",\n",
    "    \"Therapy Sessions (per month)\",\n",
    "    \"Diet Quality (1-10)\",\n",
    "    \"Gender\",\n",
    "    \"Occupation\",\n",
    "    \"Smoking\",\n",
    "    \"Family History of Anxiety\",\n",
    "    \"Dizziness\",\n",
    "    \"Medication\",\n",
    "    \"Recent Major Life Event\"\n",
    "]\n",
    "\n",
    "# Label key\n",
    "LABEL_KEY = \"Anxiety Category Encoded\""
   ]
  },
  {
   "cell_type": "code",
   "execution_count": 75,
   "metadata": {},
   "outputs": [],
   "source": [
    "def transformed_name(key):\n",
    "    \"\"\"Menambahkan suffix '_xf' untuk fitur yang telah ditransformasikan.\"\"\"\n",
    "    return f\"{key}_xf\""
   ]
  },
  {
   "cell_type": "code",
   "execution_count": 76,
   "metadata": {},
   "outputs": [],
   "source": [
    "# Melakukan Label Encoding pada fitur kategorikal\n",
    "label_encoder_dict = {}\n",
    "for feature in FEATURES:\n",
    "    if sample_data[feature].dtype == 'object':  # jika fitur bertipe object (kategorikal)\n",
    "        label_encoder = LabelEncoder()\n",
    "        sample_data[feature] = label_encoder.fit_transform(sample_data[feature])\n",
    "        label_encoder_dict[feature] = label_encoder  # Menyimpan encoder jika diperlukan"
   ]
  },
  {
   "cell_type": "code",
   "execution_count": 77,
   "metadata": {},
   "outputs": [],
   "source": [
    "# **3. Memilih Fitur untuk Testing**\n",
    "# Mengambil fitur yang sudah ter-encode dengan nama yang sesuai (_xf)\n",
    "encoded_features = {transformed_name(feature): sample_data[feature] for feature in FEATURES}"
   ]
  },
  {
   "cell_type": "code",
   "execution_count": 78,
   "metadata": {},
   "outputs": [],
   "source": [
    "# Menyiapkan data untuk request ke API\n",
    "data_for_inference = pd.DataFrame(encoded_features).iloc[0].to_dict()"
   ]
  },
  {
   "cell_type": "code",
   "execution_count": 79,
   "metadata": {},
   "outputs": [
    {
     "data": {
      "text/plain": [
       "{'Age_xf': 58.0,\n",
       " 'Sleep Hours_xf': 3.3,\n",
       " 'Physical Activity (hrs/week)_xf': 8.5,\n",
       " 'Caffeine Intake (mg/day)_xf': 47.0,\n",
       " 'Alcohol Consumption (drinks/week)_xf': 10.0,\n",
       " 'Stress Level (1-10)_xf': 1.0,\n",
       " 'Heart Rate (bpm during attack)_xf': 120.0,\n",
       " 'Breathing Rate (breaths/min)_xf': 19.0,\n",
       " 'Sweating Level (1-5)_xf': 3.0,\n",
       " 'Therapy Sessions (per month)_xf': 4.0,\n",
       " 'Diet Quality (1-10)_xf': 7.0,\n",
       " 'Gender_xf': 0.0,\n",
       " 'Occupation_xf': 3.0,\n",
       " 'Smoking_xf': 0.0,\n",
       " 'Family History of Anxiety_xf': 0.0,\n",
       " 'Dizziness_xf': 0.0,\n",
       " 'Medication_xf': 0.0,\n",
       " 'Recent Major Life Event_xf': 0.0}"
      ]
     },
     "execution_count": 79,
     "metadata": {},
     "output_type": "execute_result"
    }
   ],
   "source": [
    "data_for_inference"
   ]
  },
  {
   "cell_type": "code",
   "execution_count": 80,
   "metadata": {},
   "outputs": [],
   "source": [
    "# **4. Kirim Request ke API**\n",
    "api_url = \"https://ml-pipeline-anxiety-attack-production.up.railway.app/v1/models/anxiety-model:predict\"\n",
    "json_data = prepare_json(data_for_inference)\n",
    "\n",
    "response = requests.post(api_url, data=json_data)"
   ]
  },
  {
   "cell_type": "code",
   "execution_count": 81,
   "metadata": {},
   "outputs": [
    {
     "name": "stdout",
     "output_type": "stream",
     "text": [
      "Error: 400\n"
     ]
    }
   ],
   "source": [
    "# **5. Menampilkan Hasil Inference**\n",
    "if response.status_code == 200:\n",
    "    prediction = response.json().get(\"predictions\")\n",
    "    if prediction:\n",
    "        prediction_value = prediction[0][0]\n",
    "        \n",
    "        # Mapping nilai prediksi ke label yang sesuai\n",
    "        if prediction_value == 0:\n",
    "            result = \"Mild Anxiety\"\n",
    "        elif prediction_value == 1:\n",
    "            result = \"Moderate Anxiety\"\n",
    "        elif prediction_value == 2:\n",
    "            result = \"Panic Level Anxiety\"\n",
    "        elif prediction_value == 3:\n",
    "            result = \"Severe Anxiety\"\n",
    "        else:\n",
    "            result = \"Error: Unrecognized prediction value.\"\n",
    "    else:\n",
    "        result = \"Error: No predictions found in response.\"\n",
    "else:\n",
    "    result = f\"Error: {response.status_code}\"\n",
    "\n",
    "print(result)"
   ]
  }
 ],
 "metadata": {
  "kernelspec": {
   "display_name": "tfx-beam",
   "language": "python",
   "name": "python3"
  },
  "language_info": {
   "codemirror_mode": {
    "name": "ipython",
    "version": 3
   },
   "file_extension": ".py",
   "mimetype": "text/x-python",
   "name": "python",
   "nbconvert_exporter": "python",
   "pygments_lexer": "ipython3",
   "version": "3.9.21"
  }
 },
 "nbformat": 4,
 "nbformat_minor": 2
}
