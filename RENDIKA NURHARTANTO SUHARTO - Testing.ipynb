{
 "cells": [
  {
   "cell_type": "code",
   "execution_count": 1,
   "metadata": {},
   "outputs": [],
   "source": [
    "# 📌 **1. Import Library**\n",
    "import requests\n",
    "import json\n",
    "import os\n",
    "import base64\n",
    "import pandas as pd\n",
    "import tensorflow as tf\n",
    "\n",
    "# 📌 **2. Baca Data dari CSV**\n",
    "csv_path = \"data/anxiety_attack_dataset.csv\"\n",
    "data = pd.read_csv(csv_path)\n",
    "\n",
    "# 📌 **3. Ambil 10 Data Secara Acak untuk Uji**\n",
    "sample_data = data.sample(n=10, random_state=42)  # Pilih 10 baris acak untuk diuji"
   ]
  },
  {
   "cell_type": "code",
   "execution_count": 2,
   "metadata": {},
   "outputs": [],
   "source": [
    "# 📌 **4. Transformasi Sesuai dengan TFX Pipeline**\n",
    "\n",
    "# Daftar fitur pada dataset yang perlu di-encode\n",
    "FEATURES = [\n",
    "    \"Age\",\n",
    "    \"Sleep Hours\",\n",
    "    \"Physical Activity (hrs/week)\",\n",
    "    \"Caffeine Intake (mg/day)\",\n",
    "    \"Alcohol Consumption (drinks/week)\",\n",
    "    \"Stress Level (1-10)\",\n",
    "    \"Heart Rate (bpm during attack)\",\n",
    "    \"Breathing Rate (breaths/min)\",\n",
    "    \"Sweating Level (1-5)\",\n",
    "    \"Therapy Sessions (per month)\",\n",
    "    \"Diet Quality (1-10)\",\n",
    "    \"Gender\",\n",
    "    \"Occupation\",\n",
    "    \"Smoking\",\n",
    "    \"Family History of Anxiety\",\n",
    "    \"Dizziness\",\n",
    "    \"Medication\",\n",
    "    \"Recent Major Life Event\"\n",
    "]\n",
    "\n",
    "# Label key\n",
    "LABEL_KEY = \"Anxiety Category Encoded\""
   ]
  },
  {
   "cell_type": "code",
   "execution_count": 8,
   "metadata": {},
   "outputs": [],
   "source": [
    "inputs_df = sample_data[FEATURES + [LABEL_KEY]]"
   ]
  },
  {
   "cell_type": "code",
   "execution_count": 13,
   "metadata": {},
   "outputs": [],
   "source": [
    "# 📌 **5. Fungsi untuk Menyiapkan JSON untuk API**\n",
    "def prepare_json(inputs: dict):\n",
    "    feature_mapping = {\n",
    "        key: tf.train.Feature(float_list=tf.train.FloatList(value=[float(inputs[key])])) \n",
    "        for key in inputs.keys()\n",
    "    }\n",
    "\n",
    "    example = tf.train.Example(features=tf.train.Features(feature=feature_mapping)).SerializeToString()\n",
    "    result = {\n",
    "        \"examples\": {\n",
    "            \"b64\": base64.b64encode(example).decode()\n",
    "        }\n",
    "    }\n",
    "\n",
    "    return json.dumps({\n",
    "        \"signature_name\": \"serving_default\",\n",
    "        \"instances\": [result],\n",
    "    })"
   ]
  },
  {
   "cell_type": "code",
   "execution_count": 14,
   "metadata": {},
   "outputs": [
    {
     "name": "stdout",
     "output_type": "stream",
     "text": [
      "Prediksi untuk baris 0: Error: API request failed with status code 400. Message: Name: <unknown>, Feature: Age (data type: int64) is required but could not be found.\n",
      "\t [[{{function_node __inference_serve_tf_examples_fn_341176}}{{node ParseExample/ParseExampleV2}}]]\n",
      "Prediksi untuk baris 1: Error: API request failed with status code 400. Message: Name: <unknown>, Feature: Age (data type: int64) is required but could not be found.\n",
      "\t [[{{function_node __inference_serve_tf_examples_fn_341176}}{{node ParseExample/ParseExampleV2}}]]\n",
      "Prediksi untuk baris 2: Error: API request failed with status code 400. Message: Name: <unknown>, Feature: Age (data type: int64) is required but could not be found.\n",
      "\t [[{{function_node __inference_serve_tf_examples_fn_341176}}{{node ParseExample/ParseExampleV2}}]]\n",
      "Prediksi untuk baris 3: Error: API request failed with status code 400. Message: Name: <unknown>, Feature: Age (data type: int64) is required but could not be found.\n",
      "\t [[{{function_node __inference_serve_tf_examples_fn_341176}}{{node ParseExample/ParseExampleV2}}]]\n",
      "Prediksi untuk baris 4: Error: API request failed with status code 400. Message: Name: <unknown>, Feature: Age (data type: int64) is required but could not be found.\n",
      "\t [[{{function_node __inference_serve_tf_examples_fn_341176}}{{node ParseExample/ParseExampleV2}}]]\n",
      "Prediksi untuk baris 5: Error: API request failed with status code 400. Message: Name: <unknown>, Feature: Age (data type: int64) is required but could not be found.\n",
      "\t [[{{function_node __inference_serve_tf_examples_fn_341176}}{{node ParseExample/ParseExampleV2}}]]\n",
      "Prediksi untuk baris 6: Error: API request failed with status code 400. Message: Name: <unknown>, Feature: Age (data type: int64) is required but could not be found.\n",
      "\t [[{{function_node __inference_serve_tf_examples_fn_341176}}{{node ParseExample/ParseExampleV2}}]]\n",
      "Prediksi untuk baris 7: Error: API request failed with status code 400. Message: Name: <unknown>, Feature: Age (data type: int64) is required but could not be found.\n",
      "\t [[{{function_node __inference_serve_tf_examples_fn_341176}}{{node ParseExample/ParseExampleV2}}]]\n",
      "Prediksi untuk baris 8: Error: API request failed with status code 400. Message: Name: <unknown>, Feature: Age (data type: int64) is required but could not be found.\n",
      "\t [[{{function_node __inference_serve_tf_examples_fn_341176}}{{node ParseExample/ParseExampleV2}}]]\n",
      "Prediksi untuk baris 9: Error: API request failed with status code 400. Message: Name: <unknown>, Feature: Age (data type: int64) is required but could not be found.\n",
      "\t [[{{function_node __inference_serve_tf_examples_fn_341176}}{{node ParseExample/ParseExampleV2}}]]\n"
     ]
    }
   ],
   "source": [
    "# 📌 **6. Fungsi untuk Mengirim Request ke API dengan Pengecekan yang Lebih Detail**\n",
    "def predict(inputs):\n",
    "    json_data = prepare_json(inputs)\n",
    "\n",
    "    # URL endpoint untuk model yang sudah dideploy\n",
    "    endpoint = \"https://ml-pipeline-anxiety-attack-production.up.railway.app/v1/models/anxiety-model:predict\"\n",
    "\n",
    "    response = requests.post(endpoint, data=json_data)\n",
    "    \n",
    "    # Pengecekan apakah request berhasil (status 200) dan respons valid\n",
    "    if response.status_code == 200:\n",
    "        try:\n",
    "            predictions = response.json().get(\"predictions\")\n",
    "            if predictions:\n",
    "                return int(predictions[0])  # Hasil prediksi berupa angka 0, 1, 2, atau 3\n",
    "            else:\n",
    "                return \"Error: No predictions found in response.\"\n",
    "        except ValueError:\n",
    "            return \"Error: Invalid JSON response.\"\n",
    "    else:\n",
    "        # Menampilkan lebih banyak informasi dari respons jika status bukan 200\n",
    "        try:\n",
    "            error_info = response.json()\n",
    "            return f\"Error: API request failed with status code {response.status_code}. Message: {error_info.get('error', 'No error message provided')}\"\n",
    "        except ValueError:\n",
    "            return f\"Error: API request failed with status code {response.status_code}. No JSON response.\"\n",
    "    \n",
    "# 📌 **7. Melakukan Prediksi untuk 10 Data Acak**\n",
    "for idx, row in transformed_data.iterrows():\n",
    "    inputs = row.to_dict()\n",
    "    print(f\"Prediksi untuk baris {idx}: {predict(inputs)}\")"
   ]
  },
  {
   "cell_type": "code",
   "execution_count": null,
   "metadata": {},
   "outputs": [],
   "source": []
  }
 ],
 "metadata": {
  "kernelspec": {
   "display_name": "tfx-beam",
   "language": "python",
   "name": "python3"
  },
  "language_info": {
   "codemirror_mode": {
    "name": "ipython",
    "version": 3
   },
   "file_extension": ".py",
   "mimetype": "text/x-python",
   "name": "python",
   "nbconvert_exporter": "python",
   "pygments_lexer": "ipython3",
   "version": "3.9.21"
  }
 },
 "nbformat": 4,
 "nbformat_minor": 2
}
