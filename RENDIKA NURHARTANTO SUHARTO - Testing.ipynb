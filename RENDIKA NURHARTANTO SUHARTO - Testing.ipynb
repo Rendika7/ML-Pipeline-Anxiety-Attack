{
 "cells": [
  {
   "cell_type": "code",
   "execution_count": 9,
   "metadata": {},
   "outputs": [],
   "source": [
    "# 📌 1. Import Library\n",
    "import requests\n",
    "import json\n",
    "import numpy as np\n",
    "import pandas as pd\n",
    "import tensorflow as tf\n",
    "import base64"
   ]
  },
  {
   "cell_type": "code",
   "execution_count": 10,
   "metadata": {},
   "outputs": [],
   "source": [
    "# 📌 2. Baca Data dari CSV\n",
    "csv_path = \"data/anxiety_attack_dataset.csv\"\n",
    "data = pd.read_csv(csv_path)"
   ]
  },
  {
   "cell_type": "code",
   "execution_count": 11,
   "metadata": {},
   "outputs": [],
   "source": [
    "# 📌 3. Ambil 5 Data Secara Acak untuk Uji\n",
    "sample_data = data.sample(n=1, random_state=42)  # Pilih 5 baris acak untuk diuji"
   ]
  },
  {
   "cell_type": "code",
   "execution_count": 12,
   "metadata": {},
   "outputs": [
    {
     "data": {
      "text/html": [
       "<div>\n",
       "<style scoped>\n",
       "    .dataframe tbody tr th:only-of-type {\n",
       "        vertical-align: middle;\n",
       "    }\n",
       "\n",
       "    .dataframe tbody tr th {\n",
       "        vertical-align: top;\n",
       "    }\n",
       "\n",
       "    .dataframe thead th {\n",
       "        text-align: right;\n",
       "    }\n",
       "</style>\n",
       "<table border=\"1\" class=\"dataframe\">\n",
       "  <thead>\n",
       "    <tr style=\"text-align: right;\">\n",
       "      <th></th>\n",
       "      <th>Age</th>\n",
       "      <th>Gender</th>\n",
       "      <th>Occupation</th>\n",
       "      <th>Sleep Hours</th>\n",
       "      <th>Physical Activity (hrs/week)</th>\n",
       "      <th>Caffeine Intake (mg/day)</th>\n",
       "      <th>Alcohol Consumption (drinks/week)</th>\n",
       "      <th>Smoking</th>\n",
       "      <th>Family History of Anxiety</th>\n",
       "      <th>Stress Level (1-10)</th>\n",
       "      <th>Heart Rate (bpm during attack)</th>\n",
       "      <th>Breathing Rate (breaths/min)</th>\n",
       "      <th>Sweating Level (1-5)</th>\n",
       "      <th>Dizziness</th>\n",
       "      <th>Medication</th>\n",
       "      <th>Therapy Sessions (per month)</th>\n",
       "      <th>Recent Major Life Event</th>\n",
       "      <th>Diet Quality (1-10)</th>\n",
       "      <th>Anxiety Category Encoded</th>\n",
       "    </tr>\n",
       "  </thead>\n",
       "  <tbody>\n",
       "    <tr>\n",
       "      <th>1935</th>\n",
       "      <td>58</td>\n",
       "      <td>Female</td>\n",
       "      <td>Teacher</td>\n",
       "      <td>3.3</td>\n",
       "      <td>8.5</td>\n",
       "      <td>47</td>\n",
       "      <td>10</td>\n",
       "      <td>No</td>\n",
       "      <td>No</td>\n",
       "      <td>1</td>\n",
       "      <td>120</td>\n",
       "      <td>19</td>\n",
       "      <td>3</td>\n",
       "      <td>No</td>\n",
       "      <td>No</td>\n",
       "      <td>4</td>\n",
       "      <td>No</td>\n",
       "      <td>7</td>\n",
       "      <td>0</td>\n",
       "    </tr>\n",
       "  </tbody>\n",
       "</table>\n",
       "</div>"
      ],
      "text/plain": [
       "      Age  Gender Occupation  Sleep Hours  Physical Activity (hrs/week)  \\\n",
       "1935   58  Female    Teacher          3.3                           8.5   \n",
       "\n",
       "      Caffeine Intake (mg/day)  Alcohol Consumption (drinks/week) Smoking  \\\n",
       "1935                        47                                 10      No   \n",
       "\n",
       "     Family History of Anxiety  Stress Level (1-10)  \\\n",
       "1935                        No                    1   \n",
       "\n",
       "      Heart Rate (bpm during attack)  Breathing Rate (breaths/min)  \\\n",
       "1935                             120                            19   \n",
       "\n",
       "      Sweating Level (1-5) Dizziness Medication  Therapy Sessions (per month)  \\\n",
       "1935                     3        No         No                             4   \n",
       "\n",
       "     Recent Major Life Event  Diet Quality (1-10)  Anxiety Category Encoded  \n",
       "1935                      No                    7                         0  "
      ]
     },
     "execution_count": 12,
     "metadata": {},
     "output_type": "execute_result"
    }
   ],
   "source": [
    "sample_data"
   ]
  },
  {
   "cell_type": "code",
   "execution_count": 13,
   "metadata": {},
   "outputs": [],
   "source": [
    "# 📌 4. Fungsi untuk Encode Data ke TFRecord\n",
    "def encode_example(row):\n",
    "    # Mengubah satu baris menjadi TFRecord example\n",
    "    example = tf.train.Example(features=tf.train.Features(feature={\n",
    "        \"Age\": tf.train.Feature(int64_list=tf.train.Int64List(value=[row['Age']])),\n",
    "        \"Gender\": tf.train.Feature(bytes_list=tf.train.BytesList(value=[row['Gender'].encode()])),\n",
    "        \"Occupation\": tf.train.Feature(bytes_list=tf.train.BytesList(value=[row['Occupation'].encode()])),\n",
    "        \"Sleep Hours\": tf.train.Feature(float_list=tf.train.FloatList(value=[row['Sleep Hours']])),\n",
    "        \"Physical Activity (hrs/week)\": tf.train.Feature(float_list=tf.train.FloatList(value=[row['Physical Activity (hrs/week)']])),\n",
    "        \"Caffeine Intake (mg/day)\": tf.train.Feature(int64_list=tf.train.Int64List(value=[row['Caffeine Intake (mg/day)']])),\n",
    "        \"Alcohol Consumption (drinks/week)\": tf.train.Feature(int64_list=tf.train.Int64List(value=[row['Alcohol Consumption (drinks/week)']])),\n",
    "        \"Smoking\": tf.train.Feature(bytes_list=tf.train.BytesList(value=[row['Smoking'].encode()])),\n",
    "        \"Family History of Anxiety\": tf.train.Feature(bytes_list=tf.train.BytesList(value=[row['Family History of Anxiety'].encode()])),\n",
    "        \"Stress Level (1-10)\": tf.train.Feature(int64_list=tf.train.Int64List(value=[row['Stress Level (1-10)']])),\n",
    "        \"Heart Rate (bpm during attack)\": tf.train.Feature(int64_list=tf.train.Int64List(value=[row['Heart Rate (bpm during attack)']])),\n",
    "        \"Breathing Rate (breaths/min)\": tf.train.Feature(int64_list=tf.train.Int64List(value=[row['Breathing Rate (breaths/min)']])),\n",
    "        \"Sweating Level (1-5)\": tf.train.Feature(int64_list=tf.train.Int64List(value=[row['Sweating Level (1-5)']])),\n",
    "        \"Dizziness\": tf.train.Feature(bytes_list=tf.train.BytesList(value=[row['Dizziness'].encode()])),\n",
    "        \"Medication\": tf.train.Feature(bytes_list=tf.train.BytesList(value=[row['Medication'].encode()])),\n",
    "        \"Therapy Sessions (per month)\": tf.train.Feature(int64_list=tf.train.Int64List(value=[row['Therapy Sessions (per month)']])),\n",
    "        \"Recent Major Life Event\": tf.train.Feature(bytes_list=tf.train.BytesList(value=[row['Recent Major Life Event'].encode()])),\n",
    "        \"Diet Quality (1-10)\": tf.train.Feature(int64_list=tf.train.Int64List(value=[row['Diet Quality (1-10)']]))\n",
    "    }))\n",
    "    return example.SerializeToString()"
   ]
  },
  {
   "cell_type": "code",
   "execution_count": 14,
   "metadata": {},
   "outputs": [],
   "source": [
    "# 📌 **5. Encode Banyak Data**\n",
    "def encode_batch_data(df):\n",
    "    # Mengonversi beberapa baris data menjadi batch TFRecord\n",
    "    encoded_data = []\n",
    "    for _, row in df.iterrows():\n",
    "        encoded_data.append(encode_example(row))\n",
    "    return encoded_data\n",
    "\n",
    "# Encode data batch\n",
    "encoded_batch = encode_batch_data(sample_data)\n",
    "\n",
    "# Convert ke base64\n",
    "encoded_batch_b64 = [base64.b64encode(example).decode('utf-8') for example in encoded_batch]"
   ]
  },
  {
   "cell_type": "code",
   "execution_count": 15,
   "metadata": {},
   "outputs": [],
   "source": [
    "# 📌 **6. Kirim Request ke Railway dengan Batch Data**\n",
    "url = \"https://ml-pipeline-anxiety-attack-production.up.railway.app/v1/models/anxiety-model:predict\"\n",
    "headers = {\"content-type\": \"application/json\"}\n",
    "data = json.dumps({\n",
    "    \"signature_name\": \"serving_default\",\n",
    "    \"instances\": [{\"examples\": {\"b64\": example}} for example in encoded_batch_b64]  \n",
    "})"
   ]
  },
  {
   "cell_type": "code",
   "execution_count": 16,
   "metadata": {},
   "outputs": [
    {
     "name": "stdout",
     "output_type": "stream",
     "text": [
      "Prediction for Row 1: Moderate Anxiety (Probability: [0.287046373, 0.302494973, 0.119338371, 0.291120201])\n"
     ]
    }
   ],
   "source": [
    "# 📌 **7. Menangani Respon**\n",
    "response = requests.post(url, data=data, headers=headers)\n",
    "\n",
    "# Cek jika response berhasil\n",
    "if response.status_code == 200:\n",
    "    try:\n",
    "        result = response.json().get(\"predictions\")\n",
    "        if result:\n",
    "            for idx, prediction in enumerate(result):\n",
    "                # Ambil nilai probabilitas tertinggi untuk setiap baris\n",
    "                max_prob = max(prediction)\n",
    "                max_index = prediction.index(max_prob)  # Dapatkan index dari probabilitas tertinggi\n",
    "                \n",
    "                # Mapping nilai prediksi ke label yang sesuai\n",
    "                if max_index == 0:\n",
    "                    label = \"Mild Anxiety\"\n",
    "                elif max_index == 1:\n",
    "                    label = \"Moderate Anxiety\"\n",
    "                elif max_index == 2:\n",
    "                    label = \"Panic Level Anxiety\"\n",
    "                elif max_index == 3:\n",
    "                    label = \"Severe Anxiety\"\n",
    "                else:\n",
    "                    label = \"Error: Unrecognized prediction value.\"\n",
    "                \n",
    "                # Menampilkan hasil untuk setiap baris\n",
    "                print(f\"Prediction for Row {idx+1}: {label} (Probability: {prediction})\")\n",
    "        else:\n",
    "            print(\"Error: No predictions found in the response.\")\n",
    "    except KeyError:\n",
    "        print(\"Error: Key 'predictions' not found in the response.\")\n",
    "else:\n",
    "    print(f\"Error: {response.status_code}, {response.text}\")"
   ]
  }
 ],
 "metadata": {
  "kernelspec": {
   "display_name": "tfx-beam",
   "language": "python",
   "name": "python3"
  },
  "language_info": {
   "codemirror_mode": {
    "name": "ipython",
    "version": 3
   },
   "file_extension": ".py",
   "mimetype": "text/x-python",
   "name": "python",
   "nbconvert_exporter": "python",
   "pygments_lexer": "ipython3",
   "version": "3.9.21"
  }
 },
 "nbformat": 4,
 "nbformat_minor": 2
}
